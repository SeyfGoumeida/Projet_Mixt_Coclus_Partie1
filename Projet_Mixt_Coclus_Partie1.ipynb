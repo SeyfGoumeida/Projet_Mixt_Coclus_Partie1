{
  "nbformat": 4,
  "nbformat_minor": 0,
  "metadata": {
    "colab": {
      "name": "Projet_Mixt_Coclus_Partie1.ipynb",
      "provenance": [],
      "collapsed_sections": [],
      "include_colab_link": true
    },
    "kernelspec": {
      "name": "python3",
      "display_name": "Python 3"
    },
    "language_info": {
      "name": "python"
    }
  },
  "cells": [
    {
      "cell_type": "markdown",
      "metadata": {
        "id": "view-in-github",
        "colab_type": "text"
      },
      "source": [
        "<a href=\"https://colab.research.google.com/github/SeyfGoumeida/Projet_Mixt_Coclus_Partie1/blob/main/Projet_Mixt_Coclus_Partie1.ipynb\" target=\"_parent\"><img src=\"https://colab.research.google.com/assets/colab-badge.svg\" alt=\"Open In Colab\"/></a>"
      ]
    },
    {
      "cell_type": "code",
      "metadata": {
        "colab": {
          "base_uri": "https://localhost:8080/"
        },
        "id": "Zjp452HOTSbE",
        "outputId": "ba45e1b0-4f30-42a3-ef76-3634c86d0a87"
      },
      "source": [
        "!pip install nltk\n",
        "!pip install gensim"
      ],
      "execution_count": null,
      "outputs": [
        {
          "output_type": "stream",
          "name": "stdout",
          "text": [
            "Requirement already satisfied: nltk in /usr/local/lib/python3.7/dist-packages (3.2.5)\n",
            "Requirement already satisfied: six in /usr/local/lib/python3.7/dist-packages (from nltk) (1.15.0)\n",
            "Requirement already satisfied: gensim in /usr/local/lib/python3.7/dist-packages (3.6.0)\n",
            "Requirement already satisfied: smart-open>=1.2.1 in /usr/local/lib/python3.7/dist-packages (from gensim) (5.2.1)\n",
            "Requirement already satisfied: six>=1.5.0 in /usr/local/lib/python3.7/dist-packages (from gensim) (1.15.0)\n",
            "Requirement already satisfied: numpy>=1.11.3 in /usr/local/lib/python3.7/dist-packages (from gensim) (1.19.5)\n",
            "Requirement already satisfied: scipy>=0.18.1 in /usr/local/lib/python3.7/dist-packages (from gensim) (1.4.1)\n"
          ]
        }
      ]
    },
    {
      "cell_type": "code",
      "metadata": {
        "colab": {
          "base_uri": "https://localhost:8080/"
        },
        "id": "vlaDQSdXQEp2",
        "outputId": "348a43c6-1c3d-4c36-9ec7-b6893c97db13"
      },
      "source": [
        "import pandas as pd\n",
        "import string\n",
        "import re\n",
        "import operator\n",
        "import nltk\n",
        "nltk.download('wordnet')\n",
        "from nltk.stem import WordNetLemmatizer\n",
        "from spacy.lang.en.stop_words import STOP_WORDS\n",
        "#------------------------------------------------ \n",
        "import os\n",
        "from tensorflow.keras import layers, optimizers, losses, metrics, Model\n",
        "from sklearn import preprocessing, model_selection\n",
        "from IPython.display import display, HTML\n",
        "import matplotlib.pyplot as plt\n",
        "%matplotlib inline\n",
        "import numpy as np \n",
        "import pandas as pd\n",
        "import matplotlib.pyplot as plt\n",
        "from wordcloud import WordCloud\n",
        "from spacy.lang.en.stop_words import STOP_WORDS\n",
        "import string\n",
        "import re\n",
        "import operator\n",
        "from functools import reduce\n",
        "import nltk\n",
        "nltk.download('wordnet')\n",
        "from nltk.stem import WordNetLemmatizer\n",
        "from collections import Counter\n",
        "from gensim.utils import tokenize\n",
        "from gensim.models import Word2Vec"
      ],
      "execution_count": 46,
      "outputs": [
        {
          "output_type": "stream",
          "name": "stdout",
          "text": [
            "[nltk_data] Downloading package wordnet to /root/nltk_data...\n",
            "[nltk_data]   Package wordnet is already up-to-date!\n",
            "[nltk_data] Downloading package wordnet to /root/nltk_data...\n",
            "[nltk_data]   Package wordnet is already up-to-date!\n"
          ]
        }
      ]
    },
    {
      "cell_type": "code",
      "metadata": {
        "colab": {
          "base_uri": "https://localhost:8080/",
          "height": 424
        },
        "id": "KFcN-HV_QuYt",
        "outputId": "70fca427-1463-4360-d863-116ee3394f39"
      },
      "source": [
        "df = pd.read_csv('/content/classic4.csv',header=0,index_col=0)\n",
        "df\n"
      ],
      "execution_count": 47,
      "outputs": [
        {
          "output_type": "execute_result",
          "data": {
            "text/html": [
              "<div>\n",
              "<style scoped>\n",
              "    .dataframe tbody tr th:only-of-type {\n",
              "        vertical-align: middle;\n",
              "    }\n",
              "\n",
              "    .dataframe tbody tr th {\n",
              "        vertical-align: top;\n",
              "    }\n",
              "\n",
              "    .dataframe thead th {\n",
              "        text-align: right;\n",
              "    }\n",
              "</style>\n",
              "<table border=\"1\" class=\"dataframe\">\n",
              "  <thead>\n",
              "    <tr style=\"text-align: right;\">\n",
              "      <th></th>\n",
              "      <th>text</th>\n",
              "      <th>label</th>\n",
              "    </tr>\n",
              "  </thead>\n",
              "  <tbody>\n",
              "    <tr>\n",
              "      <th>0</th>\n",
              "      <td>Computer-Aided Analysis and Design of Informat...</td>\n",
              "      <td>cacm</td>\n",
              "    </tr>\n",
              "    <tr>\n",
              "      <th>1</th>\n",
              "      <td>Milestones in Cataloging In the case of the pr...</td>\n",
              "      <td>cisi</td>\n",
              "    </tr>\n",
              "    <tr>\n",
              "      <th>2</th>\n",
              "      <td>childhood psychosis. a description is given of...</td>\n",
              "      <td>med</td>\n",
              "    </tr>\n",
              "    <tr>\n",
              "      <th>3</th>\n",
              "      <td>neonatal hepatitis or familial neonatal obstru...</td>\n",
              "      <td>med</td>\n",
              "    </tr>\n",
              "    <tr>\n",
              "      <th>4</th>\n",
              "      <td>Handbook of Comparative Librarianship The firs...</td>\n",
              "      <td>cisi</td>\n",
              "    </tr>\n",
              "    <tr>\n",
              "      <th>...</th>\n",
              "      <td>...</td>\n",
              "      <td>...</td>\n",
              "    </tr>\n",
              "    <tr>\n",
              "      <th>7090</th>\n",
              "      <td>throat and nose surgery in patients with const...</td>\n",
              "      <td>med</td>\n",
              "    </tr>\n",
              "    <tr>\n",
              "      <th>7091</th>\n",
              "      <td>Computers and Society: A Proposed Course for C...</td>\n",
              "      <td>cacm</td>\n",
              "    </tr>\n",
              "    <tr>\n",
              "      <th>7092</th>\n",
              "      <td>Romberg Integration (Algorithm 60)</td>\n",
              "      <td>cacm</td>\n",
              "    </tr>\n",
              "    <tr>\n",
              "      <th>7093</th>\n",
              "      <td>Semantic Evaluation from Left to Right This pa...</td>\n",
              "      <td>cacm</td>\n",
              "    </tr>\n",
              "    <tr>\n",
              "      <th>7094</th>\n",
              "      <td>Toward Standards for Handwritten Zero and Oh</td>\n",
              "      <td>cacm</td>\n",
              "    </tr>\n",
              "  </tbody>\n",
              "</table>\n",
              "<p>7095 rows × 2 columns</p>\n",
              "</div>"
            ],
            "text/plain": [
              "                                                   text label\n",
              "0     Computer-Aided Analysis and Design of Informat...  cacm\n",
              "1     Milestones in Cataloging In the case of the pr...  cisi\n",
              "2     childhood psychosis. a description is given of...   med\n",
              "3     neonatal hepatitis or familial neonatal obstru...   med\n",
              "4     Handbook of Comparative Librarianship The firs...  cisi\n",
              "...                                                 ...   ...\n",
              "7090  throat and nose surgery in patients with const...   med\n",
              "7091  Computers and Society: A Proposed Course for C...  cacm\n",
              "7092                 Romberg Integration (Algorithm 60)  cacm\n",
              "7093  Semantic Evaluation from Left to Right This pa...  cacm\n",
              "7094       Toward Standards for Handwritten Zero and Oh  cacm\n",
              "\n",
              "[7095 rows x 2 columns]"
            ]
          },
          "metadata": {},
          "execution_count": 47
        }
      ]
    },
    {
      "cell_type": "code",
      "metadata": {
        "colab": {
          "base_uri": "https://localhost:8080/",
          "height": 175
        },
        "id": "FokZnCU9Sw0M",
        "outputId": "fcdc5351-258b-4d58-f8a9-bd37d5d97e8d"
      },
      "source": [
        "df[\"label\"].value_counts().to_frame()"
      ],
      "execution_count": 48,
      "outputs": [
        {
          "output_type": "execute_result",
          "data": {
            "text/html": [
              "<div>\n",
              "<style scoped>\n",
              "    .dataframe tbody tr th:only-of-type {\n",
              "        vertical-align: middle;\n",
              "    }\n",
              "\n",
              "    .dataframe tbody tr th {\n",
              "        vertical-align: top;\n",
              "    }\n",
              "\n",
              "    .dataframe thead th {\n",
              "        text-align: right;\n",
              "    }\n",
              "</style>\n",
              "<table border=\"1\" class=\"dataframe\">\n",
              "  <thead>\n",
              "    <tr style=\"text-align: right;\">\n",
              "      <th></th>\n",
              "      <th>label</th>\n",
              "    </tr>\n",
              "  </thead>\n",
              "  <tbody>\n",
              "    <tr>\n",
              "      <th>cacm</th>\n",
              "      <td>3204</td>\n",
              "    </tr>\n",
              "    <tr>\n",
              "      <th>cisi</th>\n",
              "      <td>1460</td>\n",
              "    </tr>\n",
              "    <tr>\n",
              "      <th>cran</th>\n",
              "      <td>1398</td>\n",
              "    </tr>\n",
              "    <tr>\n",
              "      <th>med</th>\n",
              "      <td>1033</td>\n",
              "    </tr>\n",
              "  </tbody>\n",
              "</table>\n",
              "</div>"
            ],
            "text/plain": [
              "      label\n",
              "cacm   3204\n",
              "cisi   1460\n",
              "cran   1398\n",
              "med    1033"
            ]
          },
          "metadata": {},
          "execution_count": 48
        }
      ]
    },
    {
      "cell_type": "code",
      "metadata": {
        "id": "EGcjrdS2YQWq"
      },
      "source": [
        "#punctuations\n",
        "punctuations = string.punctuation\n",
        "#stopwords\n",
        "stop_words = list(STOP_WORDS)\n",
        "def clean_text(\n",
        "  string : str,\n",
        "  ponctuation = '!\"#$%&\\'()*+,-./:;<=>?@[\\\\]^_`{|}~',\n",
        "  stop_words = stop_words)->str : \n",
        "\n",
        "  #URLs\n",
        "  string = re.sub(r\"https?://\\S+|www\\.\\S+\",'',string)\n",
        "  #html \n",
        "  string = re.sub(r'<.*?>','',string)\n",
        "  #Numbers\n",
        "  string = re.sub(r'[0-9]+','',string) \n",
        "\n",
        "  #Remove punctuations\n",
        "  for x in string.lower():\n",
        "    if x in punctuations:\n",
        "      string = string.replace(x,\"\")\n",
        "  #To lower\n",
        "  string = string.lower()\n",
        "  #Remove stop words\n",
        "  lemmatizer = WordNetLemmatizer()\n",
        "  string = ' '.join([lemmatizer.lemmatize(word) for word in string.split() if word not in stop_words])\n",
        "  #Cleaning the whitespaces\n",
        "  string = re.sub(r'\\s', ' ', string).strip()\n",
        "\n",
        "  return string"
      ],
      "execution_count": 49,
      "outputs": []
    },
    {
      "cell_type": "code",
      "metadata": {
        "id": "fFk1oORQYjru"
      },
      "source": [
        "abstract = df['text'].to_list()\n",
        "abstracts_cleaned = [clean_text(x) for x in abstract]"
      ],
      "execution_count": 50,
      "outputs": []
    },
    {
      "cell_type": "code",
      "metadata": {
        "colab": {
          "base_uri": "https://localhost:8080/"
        },
        "id": "xJr2NBUSY6hl",
        "outputId": "7278c150-67ce-439a-84e5-0fb49b2ee76c"
      },
      "source": [
        "len(abstracts_cleaned)"
      ],
      "execution_count": 51,
      "outputs": [
        {
          "output_type": "execute_result",
          "data": {
            "text/plain": [
              "7095"
            ]
          },
          "metadata": {},
          "execution_count": 51
        }
      ]
    },
    {
      "cell_type": "markdown",
      "metadata": {
        "id": "B1AG7G52ZEUp"
      },
      "source": [
        "#Word2Vec"
      ]
    },
    {
      "cell_type": "code",
      "metadata": {
        "colab": {
          "base_uri": "https://localhost:8080/"
        },
        "id": "7JKtneYfZDz2",
        "outputId": "02ffbd22-cafa-4c78-ff86-98f20ff6d6b6"
      },
      "source": [
        "from gensim.utils import tokenize\n",
        "sentances = [list(tokenize(s, deacc=True, lower=True)) for s in abstracts_cleaned]\n",
        "len(sentances)"
      ],
      "execution_count": 52,
      "outputs": [
        {
          "output_type": "execute_result",
          "data": {
            "text/plain": [
              "7095"
            ]
          },
          "metadata": {},
          "execution_count": 52
        }
      ]
    },
    {
      "cell_type": "code",
      "metadata": {
        "id": "0j1pJSoxZ4xu",
        "colab": {
          "base_uri": "https://localhost:8080/"
        },
        "outputId": "9e2ddf88-46b2-41a6-c303-5c9fd79d55d9"
      },
      "source": [
        "from gensim.models import word2vec\n",
        "model1 = word2vec.Word2Vec(sentances,min_count=2)\n",
        "model1.corpus_count\n",
        "vocab = model1.wv.vocab\n",
        "words = list(vocab) # les mots\n",
        "\n",
        "list_vec = list(model1.wv.vectors) # les vecteurs de mots\n",
        "\n",
        "model1.similarity('worker', 'treated') # calcul de similarité"
      ],
      "execution_count": 53,
      "outputs": [
        {
          "output_type": "stream",
          "name": "stderr",
          "text": [
            "/usr/local/lib/python3.7/dist-packages/ipykernel_launcher.py:9: DeprecationWarning: Call to deprecated `similarity` (Method will be removed in 4.0.0, use self.wv.similarity() instead).\n",
            "  if __name__ == '__main__':\n"
          ]
        },
        {
          "output_type": "execute_result",
          "data": {
            "text/plain": [
              "0.68559164"
            ]
          },
          "metadata": {},
          "execution_count": 53
        }
      ]
    },
    {
      "cell_type": "code",
      "metadata": {
        "id": "FrjlKpOj2jAV",
        "colab": {
          "base_uri": "https://localhost:8080/"
        },
        "outputId": "9e313f1b-4558-41fa-ff4d-a6638d3c0dc9"
      },
      "source": [
        "len(list(model1.wv.vocab.keys()))"
      ],
      "execution_count": 54,
      "outputs": [
        {
          "output_type": "execute_result",
          "data": {
            "text/plain": [
              "13643"
            ]
          },
          "metadata": {},
          "execution_count": 54
        }
      ]
    },
    {
      "cell_type": "code",
      "metadata": {
        "colab": {
          "base_uri": "https://localhost:8080/",
          "height": 475
        },
        "id": "0vzJwrhrfjhz",
        "outputId": "7e3a46d2-bb73-4f1b-ae25-d51be29d6c56"
      },
      "source": [
        "from sklearn.manifold import TSNE\n",
        "def display_closestwords_tsnescatterplot(model, word, size):\n",
        "    \n",
        "  arr = np.empty((0,size), dtype='f')\n",
        "  word_labels = [word]\n",
        "    \n",
        "  close_words = model.similar_by_word(word)\n",
        "\n",
        "  arr = np.append(arr, np.array([model[word]]), axis=0)\n",
        "  for wrd_score in close_words:\n",
        "    wrd_vector = model[wrd_score[0]]\n",
        "    word_labels.append(wrd_score[0])\n",
        "    arr = np.append(arr, np.array([wrd_vector]), axis=0)\n",
        "        \n",
        "  tsne = TSNE(n_components=2, random_state=0)\n",
        "  np.set_printoptions(suppress=True)\n",
        "  Y = tsne.fit_transform(arr)\n",
        "  x_coords = Y[:, 0]\n",
        "  y_coords = Y[:, 1]\n",
        "  plt.scatter(x_coords, y_coords)\n",
        "  for label, x, y in zip(word_labels, x_coords, y_coords):\n",
        "      plt.annotate(label, xy=(x, y), xytext=(0, 0), textcoords='offset points')\n",
        "  plt.xlim(x_coords.min()+0.00005, x_coords.max()+0.00005)\n",
        "  plt.ylim(y_coords.min()+0.00005, y_coords.max()+0.00005)\n",
        "  plt.show()\n",
        "\n",
        "display_closestwords_tsnescatterplot(model1, 'address', 100)"
      ],
      "execution_count": 55,
      "outputs": [
        {
          "output_type": "stream",
          "name": "stderr",
          "text": [
            "/usr/local/lib/python3.7/dist-packages/ipykernel_launcher.py:7: DeprecationWarning: Call to deprecated `similar_by_word` (Method will be removed in 4.0.0, use self.wv.similar_by_word() instead).\n",
            "  import sys\n",
            "/usr/local/lib/python3.7/dist-packages/ipykernel_launcher.py:9: DeprecationWarning: Call to deprecated `__getitem__` (Method will be removed in 4.0.0, use self.wv.__getitem__() instead).\n",
            "  if __name__ == '__main__':\n",
            "/usr/local/lib/python3.7/dist-packages/ipykernel_launcher.py:11: DeprecationWarning: Call to deprecated `__getitem__` (Method will be removed in 4.0.0, use self.wv.__getitem__() instead).\n",
            "  # This is added back by InteractiveShellApp.init_path()\n",
            "/usr/local/lib/python3.7/dist-packages/sklearn/manifold/_t_sne.py:783: FutureWarning: The default initialization in TSNE will change from 'random' to 'pca' in 1.2.\n",
            "  FutureWarning,\n",
            "/usr/local/lib/python3.7/dist-packages/sklearn/manifold/_t_sne.py:793: FutureWarning: The default learning rate in TSNE will change from 200.0 to 'auto' in 1.2.\n",
            "  FutureWarning,\n"
          ]
        },
        {
          "output_type": "display_data",
          "data": {
            "image/png": "[encoded data removed]",
            "text/plain": [
              "<Figure size 432x288 with 1 Axes>"
            ]
          },
          "metadata": {
            "needs_background": "light"
          }
        }
      ]
    },
    {
      "cell_type": "code",
      "metadata": {
        "id": "Eiw5FrYce3Wb"
      },
      "source": [
        "!wget -c \"https://s3.amazonaws.com/dl4j-distribution/GoogleNews-vectors-negative300.bin.gz\"\n",
        "!gzip -d GoogleNews-vectors-negative300.bin.gz"
      ],
      "execution_count": 20,
      "outputs": []
    },
    {
      "cell_type": "code",
      "metadata": {
        "id": "Q0nCYS9p0_uy",
        "colab": {
          "base_uri": "https://localhost:8080/"
        },
        "outputId": "b747cf6c-5389-464d-ca3d-5182b33db09b"
      },
      "source": [
        "from gensim.models import KeyedVectors\n",
        "\n",
        "model_2 = Word2Vec(size=300, min_count=1)\n",
        "model_2.build_vocab(sentances)\n",
        "total_examples = model_2.corpus_count\n",
        "model = KeyedVectors.load_word2vec_format(\"/content/GoogleNews-vectors-negative300.bin\", binary=True)\n",
        "model_2.intersect_word2vec_format(\"/content/GoogleNews-vectors-negative300.bin\", binary=True, lockf=1.0)\n",
        "model_2.train(sentances, total_examples=total_examples, epochs=model_2.iter)"
      ],
      "execution_count": 57,
      "outputs": [
        {
          "output_type": "stream",
          "name": "stderr",
          "text": [
            "/usr/local/lib/python3.7/dist-packages/ipykernel_launcher.py:8: DeprecationWarning: Call to deprecated `iter` (Attribute will be removed in 4.0.0, use self.epochs instead).\n",
            "  \n"
          ]
        },
        {
          "output_type": "execute_result",
          "data": {
            "text/plain": [
              "(1964040, 2018900)"
            ]
          },
          "metadata": {},
          "execution_count": 57
        }
      ]
    },
    {
      "cell_type": "code",
      "metadata": {
        "id": "I21Xrr8-1ksB",
        "colab": {
          "base_uri": "https://localhost:8080/",
          "height": 322
        },
        "outputId": "75e3dad2-e7f6-4dcf-86ba-5cbee45eee38"
      },
      "source": [
        "from sklearn.decomposition import PCA\n",
        "from matplotlib import pyplot\n",
        "# fit a 2d PCA model to the vectors\n",
        "X = model_2[model1.wv.vocab]\n",
        "pca = PCA(n_components=2)\n",
        "result = pca.fit_transform(X)\n",
        "# create a scatter plot of the projection\n",
        "pyplot.scatter(result[:, 0], result[:, 1])\n",
        "words = list(model1.wv.vocab)\n",
        "for i, word in enumerate(words):\n",
        "    pyplot.annotate(word, xy=(result[i, 0], result[i, 1]))\n",
        "pyplot.show()\n"
      ],
      "execution_count": 72,
      "outputs": [
        {
          "output_type": "stream",
          "name": "stderr",
          "text": [
            "/usr/local/lib/python3.7/dist-packages/ipykernel_launcher.py:4: DeprecationWarning: Call to deprecated `__getitem__` (Method will be removed in 4.0.0, use self.wv.__getitem__() instead).\n",
            "  after removing the cwd from sys.path.\n"
          ]
        },
        {
          "output_type": "display_data",
          "data": {
            "image/png": "[encoded data removed]",
            "text/plain": [
              "<Figure size 432x288 with 1 Axes>"
            ]
          },
          "metadata": {
            "needs_background": "light"
          }
        }
      ]
    },
    {
      "cell_type": "code",
      "metadata": {
        "id": "0lOT13xgl8Tc",
        "outputId": "b84f7f1d-81a2-4ad0-bee2-17d2668c3ead",
        "colab": {
          "base_uri": "https://localhost:8080/"
        }
      },
      "source": [
        "model1.wv.vectors.shape\n",
        "result.shape"
      ],
      "execution_count": 81,
      "outputs": [
        {
          "output_type": "execute_result",
          "data": {
            "text/plain": [
              "(13643, 2)"
            ]
          },
          "metadata": {},
          "execution_count": 81
        }
      ]
    },
    {
      "cell_type": "code",
      "metadata": {
        "id": "tlQJpUk7lSRK"
      },
      "source": [
        "from sklearn.cluster import KMeans\n",
        "kmeans = KMeans(n_clusters=4)\n",
        "#kmeans.fit(result)\n",
        "kmeans.fit(moyenne_des_vecteur)\n",
        "#y_kmeans = kmeans.predict(result)\n",
        "y_kmeans = kmeans.predict(moyenne_des_vecteur)"
      ],
      "execution_count": 122,
      "outputs": []
    },
    {
      "cell_type": "code",
      "metadata": {
        "id": "SvjpPR21ltu1",
        "outputId": "c065b790-1739-4c38-b9a5-1428025328d4",
        "colab": {
          "base_uri": "https://localhost:8080/",
          "height": 740
        }
      },
      "source": [
        "plt.scatter(X[:, 0], X[:, 1], c=y_kmeans, s=50, cmap='viridis')\n",
        "\n",
        "centers = kmeans.cluster_centers_\n",
        "plt.scatter(centers[:, 0], centers[:, 1], c='black', s=200, alpha=0.2);"
      ],
      "execution_count": 123,
      "outputs": [
        {
          "output_type": "error",
          "ename": "ValueError",
          "evalue": "ignored",
          "traceback": [
            "\u001b[0;31m---------------------------------------------------------------------------\u001b[0m",
            "\u001b[0;31mValueError\u001b[0m                                Traceback (most recent call last)",
            "\u001b[0;32m/usr/local/lib/python3.7/dist-packages/matplotlib/axes/_axes.py\u001b[0m in \u001b[0;36m_parse_scatter_color_args\u001b[0;34m(c, edgecolors, kwargs, xsize, get_next_color_func)\u001b[0m\n\u001b[1;32m   4238\u001b[0m             \u001b[0;32mtry\u001b[0m\u001b[0;34m:\u001b[0m  \u001b[0;31m# Is 'c' acceptable as PathCollection facecolors?\u001b[0m\u001b[0;34m\u001b[0m\u001b[0;34m\u001b[0m\u001b[0m\n\u001b[0;32m-> 4239\u001b[0;31m                 \u001b[0mcolors\u001b[0m \u001b[0;34m=\u001b[0m \u001b[0mmcolors\u001b[0m\u001b[0;34m.\u001b[0m\u001b[0mto_rgba_array\u001b[0m\u001b[0;34m(\u001b[0m\u001b[0mc\u001b[0m\u001b[0;34m)\u001b[0m\u001b[0;34m\u001b[0m\u001b[0;34m\u001b[0m\u001b[0m\n\u001b[0m\u001b[1;32m   4240\u001b[0m             \u001b[0;32mexcept\u001b[0m \u001b[0mValueError\u001b[0m\u001b[0;34m:\u001b[0m\u001b[0;34m\u001b[0m\u001b[0;34m\u001b[0m\u001b[0m\n",
            "\u001b[0;32m/usr/local/lib/python3.7/dist-packages/matplotlib/colors.py\u001b[0m in \u001b[0;36mto_rgba_array\u001b[0;34m(c, alpha)\u001b[0m\n\u001b[1;32m    339\u001b[0m     \u001b[0;32melse\u001b[0m\u001b[0;34m:\u001b[0m\u001b[0;34m\u001b[0m\u001b[0;34m\u001b[0m\u001b[0m\n\u001b[0;32m--> 340\u001b[0;31m         \u001b[0;32mreturn\u001b[0m \u001b[0mnp\u001b[0m\u001b[0;34m.\u001b[0m\u001b[0marray\u001b[0m\u001b[0;34m(\u001b[0m\u001b[0;34m[\u001b[0m\u001b[0mto_rgba\u001b[0m\u001b[0;34m(\u001b[0m\u001b[0mcc\u001b[0m\u001b[0;34m,\u001b[0m \u001b[0malpha\u001b[0m\u001b[0;34m)\u001b[0m \u001b[0;32mfor\u001b[0m \u001b[0mcc\u001b[0m \u001b[0;32min\u001b[0m \u001b[0mc\u001b[0m\u001b[0;34m]\u001b[0m\u001b[0;34m)\u001b[0m\u001b[0;34m\u001b[0m\u001b[0;34m\u001b[0m\u001b[0m\n\u001b[0m\u001b[1;32m    341\u001b[0m \u001b[0;34m\u001b[0m\u001b[0m\n",
            "\u001b[0;32m/usr/local/lib/python3.7/dist-packages/matplotlib/colors.py\u001b[0m in \u001b[0;36m<listcomp>\u001b[0;34m(.0)\u001b[0m\n\u001b[1;32m    339\u001b[0m     \u001b[0;32melse\u001b[0m\u001b[0;34m:\u001b[0m\u001b[0;34m\u001b[0m\u001b[0;34m\u001b[0m\u001b[0m\n\u001b[0;32m--> 340\u001b[0;31m         \u001b[0;32mreturn\u001b[0m \u001b[0mnp\u001b[0m\u001b[0;34m.\u001b[0m\u001b[0marray\u001b[0m\u001b[0;34m(\u001b[0m\u001b[0;34m[\u001b[0m\u001b[0mto_rgba\u001b[0m\u001b[0;34m(\u001b[0m\u001b[0mcc\u001b[0m\u001b[0;34m,\u001b[0m \u001b[0malpha\u001b[0m\u001b[0;34m)\u001b[0m \u001b[0;32mfor\u001b[0m \u001b[0mcc\u001b[0m \u001b[0;32min\u001b[0m \u001b[0mc\u001b[0m\u001b[0;34m]\u001b[0m\u001b[0;34m)\u001b[0m\u001b[0;34m\u001b[0m\u001b[0;34m\u001b[0m\u001b[0m\n\u001b[0m\u001b[1;32m    341\u001b[0m \u001b[0;34m\u001b[0m\u001b[0m\n",
            "\u001b[0;32m/usr/local/lib/python3.7/dist-packages/matplotlib/colors.py\u001b[0m in \u001b[0;36mto_rgba\u001b[0;34m(c, alpha)\u001b[0m\n\u001b[1;32m    184\u001b[0m     \u001b[0;32mif\u001b[0m \u001b[0mrgba\u001b[0m \u001b[0;32mis\u001b[0m \u001b[0;32mNone\u001b[0m\u001b[0;34m:\u001b[0m  \u001b[0;31m# Suppress exception chaining of cache lookup failure.\u001b[0m\u001b[0;34m\u001b[0m\u001b[0;34m\u001b[0m\u001b[0m\n\u001b[0;32m--> 185\u001b[0;31m         \u001b[0mrgba\u001b[0m \u001b[0;34m=\u001b[0m \u001b[0m_to_rgba_no_colorcycle\u001b[0m\u001b[0;34m(\u001b[0m\u001b[0mc\u001b[0m\u001b[0;34m,\u001b[0m \u001b[0malpha\u001b[0m\u001b[0;34m)\u001b[0m\u001b[0;34m\u001b[0m\u001b[0;34m\u001b[0m\u001b[0m\n\u001b[0m\u001b[1;32m    186\u001b[0m         \u001b[0;32mtry\u001b[0m\u001b[0;34m:\u001b[0m\u001b[0;34m\u001b[0m\u001b[0;34m\u001b[0m\u001b[0m\n",
            "\u001b[0;32m/usr/local/lib/python3.7/dist-packages/matplotlib/colors.py\u001b[0m in \u001b[0;36m_to_rgba_no_colorcycle\u001b[0;34m(c, alpha)\u001b[0m\n\u001b[1;32m    267\u001b[0m         \u001b[0;31m# Test dimensionality to reject single floats.\u001b[0m\u001b[0;34m\u001b[0m\u001b[0;34m\u001b[0m\u001b[0;34m\u001b[0m\u001b[0m\n\u001b[0;32m--> 268\u001b[0;31m         \u001b[0;32mraise\u001b[0m \u001b[0mValueError\u001b[0m\u001b[0;34m(\u001b[0m\u001b[0;34mf\"Invalid RGBA argument: {orig_c!r}\"\u001b[0m\u001b[0;34m)\u001b[0m\u001b[0;34m\u001b[0m\u001b[0;34m\u001b[0m\u001b[0m\n\u001b[0m\u001b[1;32m    269\u001b[0m     \u001b[0;31m# Return a tuple to prevent the cached value from being modified.\u001b[0m\u001b[0;34m\u001b[0m\u001b[0;34m\u001b[0m\u001b[0;34m\u001b[0m\u001b[0m\n",
            "\u001b[0;31mValueError\u001b[0m: Invalid RGBA argument: 2.0",
            "\nDuring handling of the above exception, another exception occurred:\n",
            "\u001b[0;31mValueError\u001b[0m                                Traceback (most recent call last)",
            "\u001b[0;32m<ipython-input-123-be9f2cd8a377>\u001b[0m in \u001b[0;36m<module>\u001b[0;34m()\u001b[0m\n\u001b[0;32m----> 1\u001b[0;31m \u001b[0mplt\u001b[0m\u001b[0;34m.\u001b[0m\u001b[0mscatter\u001b[0m\u001b[0;34m(\u001b[0m\u001b[0mX\u001b[0m\u001b[0;34m[\u001b[0m\u001b[0;34m:\u001b[0m\u001b[0;34m,\u001b[0m \u001b[0;36m0\u001b[0m\u001b[0;34m]\u001b[0m\u001b[0;34m,\u001b[0m \u001b[0mX\u001b[0m\u001b[0;34m[\u001b[0m\u001b[0;34m:\u001b[0m\u001b[0;34m,\u001b[0m \u001b[0;36m1\u001b[0m\u001b[0;34m]\u001b[0m\u001b[0;34m,\u001b[0m \u001b[0mc\u001b[0m\u001b[0;34m=\u001b[0m\u001b[0my_kmeans\u001b[0m\u001b[0;34m,\u001b[0m \u001b[0ms\u001b[0m\u001b[0;34m=\u001b[0m\u001b[0;36m50\u001b[0m\u001b[0;34m,\u001b[0m \u001b[0mcmap\u001b[0m\u001b[0;34m=\u001b[0m\u001b[0;34m'viridis'\u001b[0m\u001b[0;34m)\u001b[0m\u001b[0;34m\u001b[0m\u001b[0;34m\u001b[0m\u001b[0m\n\u001b[0m\u001b[1;32m      2\u001b[0m \u001b[0;34m\u001b[0m\u001b[0m\n\u001b[1;32m      3\u001b[0m \u001b[0mcenters\u001b[0m \u001b[0;34m=\u001b[0m \u001b[0mkmeans\u001b[0m\u001b[0;34m.\u001b[0m\u001b[0mcluster_centers_\u001b[0m\u001b[0;34m\u001b[0m\u001b[0;34m\u001b[0m\u001b[0m\n\u001b[1;32m      4\u001b[0m \u001b[0mplt\u001b[0m\u001b[0;34m.\u001b[0m\u001b[0mscatter\u001b[0m\u001b[0;34m(\u001b[0m\u001b[0mcenters\u001b[0m\u001b[0;34m[\u001b[0m\u001b[0;34m:\u001b[0m\u001b[0;34m,\u001b[0m \u001b[0;36m0\u001b[0m\u001b[0;34m]\u001b[0m\u001b[0;34m,\u001b[0m \u001b[0mcenters\u001b[0m\u001b[0;34m[\u001b[0m\u001b[0;34m:\u001b[0m\u001b[0;34m,\u001b[0m \u001b[0;36m1\u001b[0m\u001b[0;34m]\u001b[0m\u001b[0;34m,\u001b[0m \u001b[0mc\u001b[0m\u001b[0;34m=\u001b[0m\u001b[0;34m'black'\u001b[0m\u001b[0;34m,\u001b[0m \u001b[0ms\u001b[0m\u001b[0;34m=\u001b[0m\u001b[0;36m200\u001b[0m\u001b[0;34m,\u001b[0m \u001b[0malpha\u001b[0m\u001b[0;34m=\u001b[0m\u001b[0;36m0.2\u001b[0m\u001b[0;34m)\u001b[0m\u001b[0;34m;\u001b[0m\u001b[0;34m\u001b[0m\u001b[0;34m\u001b[0m\u001b[0m\n",
            "\u001b[0;32m/usr/local/lib/python3.7/dist-packages/matplotlib/pyplot.py\u001b[0m in \u001b[0;36mscatter\u001b[0;34m(x, y, s, c, marker, cmap, norm, vmin, vmax, alpha, linewidths, verts, edgecolors, plotnonfinite, data, **kwargs)\u001b[0m\n\u001b[1;32m   2814\u001b[0m         \u001b[0mverts\u001b[0m\u001b[0;34m=\u001b[0m\u001b[0mverts\u001b[0m\u001b[0;34m,\u001b[0m \u001b[0medgecolors\u001b[0m\u001b[0;34m=\u001b[0m\u001b[0medgecolors\u001b[0m\u001b[0;34m,\u001b[0m\u001b[0;34m\u001b[0m\u001b[0;34m\u001b[0m\u001b[0m\n\u001b[1;32m   2815\u001b[0m         plotnonfinite=plotnonfinite, **({\"data\": data} if data is not\n\u001b[0;32m-> 2816\u001b[0;31m         None else {}), **kwargs)\n\u001b[0m\u001b[1;32m   2817\u001b[0m     \u001b[0msci\u001b[0m\u001b[0;34m(\u001b[0m\u001b[0m__ret\u001b[0m\u001b[0;34m)\u001b[0m\u001b[0;34m\u001b[0m\u001b[0;34m\u001b[0m\u001b[0m\n\u001b[1;32m   2818\u001b[0m     \u001b[0;32mreturn\u001b[0m \u001b[0m__ret\u001b[0m\u001b[0;34m\u001b[0m\u001b[0;34m\u001b[0m\u001b[0m\n",
            "\u001b[0;32m/usr/local/lib/python3.7/dist-packages/matplotlib/__init__.py\u001b[0m in \u001b[0;36minner\u001b[0;34m(ax, data, *args, **kwargs)\u001b[0m\n\u001b[1;32m   1563\u001b[0m     \u001b[0;32mdef\u001b[0m \u001b[0minner\u001b[0m\u001b[0;34m(\u001b[0m\u001b[0max\u001b[0m\u001b[0;34m,\u001b[0m \u001b[0;34m*\u001b[0m\u001b[0margs\u001b[0m\u001b[0;34m,\u001b[0m \u001b[0mdata\u001b[0m\u001b[0;34m=\u001b[0m\u001b[0;32mNone\u001b[0m\u001b[0;34m,\u001b[0m \u001b[0;34m**\u001b[0m\u001b[0mkwargs\u001b[0m\u001b[0;34m)\u001b[0m\u001b[0;34m:\u001b[0m\u001b[0;34m\u001b[0m\u001b[0;34m\u001b[0m\u001b[0m\n\u001b[1;32m   1564\u001b[0m         \u001b[0;32mif\u001b[0m \u001b[0mdata\u001b[0m \u001b[0;32mis\u001b[0m \u001b[0;32mNone\u001b[0m\u001b[0;34m:\u001b[0m\u001b[0;34m\u001b[0m\u001b[0;34m\u001b[0m\u001b[0m\n\u001b[0;32m-> 1565\u001b[0;31m             \u001b[0;32mreturn\u001b[0m \u001b[0mfunc\u001b[0m\u001b[0;34m(\u001b[0m\u001b[0max\u001b[0m\u001b[0;34m,\u001b[0m \u001b[0;34m*\u001b[0m\u001b[0mmap\u001b[0m\u001b[0;34m(\u001b[0m\u001b[0msanitize_sequence\u001b[0m\u001b[0;34m,\u001b[0m \u001b[0margs\u001b[0m\u001b[0;34m)\u001b[0m\u001b[0;34m,\u001b[0m \u001b[0;34m**\u001b[0m\u001b[0mkwargs\u001b[0m\u001b[0;34m)\u001b[0m\u001b[0;34m\u001b[0m\u001b[0;34m\u001b[0m\u001b[0m\n\u001b[0m\u001b[1;32m   1566\u001b[0m \u001b[0;34m\u001b[0m\u001b[0m\n\u001b[1;32m   1567\u001b[0m         \u001b[0mbound\u001b[0m \u001b[0;34m=\u001b[0m \u001b[0mnew_sig\u001b[0m\u001b[0;34m.\u001b[0m\u001b[0mbind\u001b[0m\u001b[0;34m(\u001b[0m\u001b[0max\u001b[0m\u001b[0;34m,\u001b[0m \u001b[0;34m*\u001b[0m\u001b[0margs\u001b[0m\u001b[0;34m,\u001b[0m \u001b[0;34m**\u001b[0m\u001b[0mkwargs\u001b[0m\u001b[0;34m)\u001b[0m\u001b[0;34m\u001b[0m\u001b[0;34m\u001b[0m\u001b[0m\n",
            "\u001b[0;32m/usr/local/lib/python3.7/dist-packages/matplotlib/cbook/deprecation.py\u001b[0m in \u001b[0;36mwrapper\u001b[0;34m(*args, **kwargs)\u001b[0m\n\u001b[1;32m    356\u001b[0m                 \u001b[0;34mf\"%(removal)s.  If any parameter follows {name!r}, they \"\u001b[0m\u001b[0;34m\u001b[0m\u001b[0;34m\u001b[0m\u001b[0m\n\u001b[1;32m    357\u001b[0m                 f\"should be pass as keyword, not positionally.\")\n\u001b[0;32m--> 358\u001b[0;31m         \u001b[0;32mreturn\u001b[0m \u001b[0mfunc\u001b[0m\u001b[0;34m(\u001b[0m\u001b[0;34m*\u001b[0m\u001b[0margs\u001b[0m\u001b[0;34m,\u001b[0m \u001b[0;34m**\u001b[0m\u001b[0mkwargs\u001b[0m\u001b[0;34m)\u001b[0m\u001b[0;34m\u001b[0m\u001b[0;34m\u001b[0m\u001b[0m\n\u001b[0m\u001b[1;32m    359\u001b[0m \u001b[0;34m\u001b[0m\u001b[0m\n\u001b[1;32m    360\u001b[0m     \u001b[0;32mreturn\u001b[0m \u001b[0mwrapper\u001b[0m\u001b[0;34m\u001b[0m\u001b[0;34m\u001b[0m\u001b[0m\n",
            "\u001b[0;32m/usr/local/lib/python3.7/dist-packages/matplotlib/axes/_axes.py\u001b[0m in \u001b[0;36mscatter\u001b[0;34m(self, x, y, s, c, marker, cmap, norm, vmin, vmax, alpha, linewidths, verts, edgecolors, plotnonfinite, **kwargs)\u001b[0m\n\u001b[1;32m   4401\u001b[0m             self._parse_scatter_color_args(\n\u001b[1;32m   4402\u001b[0m                 \u001b[0mc\u001b[0m\u001b[0;34m,\u001b[0m \u001b[0medgecolors\u001b[0m\u001b[0;34m,\u001b[0m \u001b[0mkwargs\u001b[0m\u001b[0;34m,\u001b[0m \u001b[0mx\u001b[0m\u001b[0;34m.\u001b[0m\u001b[0msize\u001b[0m\u001b[0;34m,\u001b[0m\u001b[0;34m\u001b[0m\u001b[0;34m\u001b[0m\u001b[0m\n\u001b[0;32m-> 4403\u001b[0;31m                 get_next_color_func=self._get_patches_for_fill.get_next_color)\n\u001b[0m\u001b[1;32m   4404\u001b[0m \u001b[0;34m\u001b[0m\u001b[0m\n\u001b[1;32m   4405\u001b[0m         \u001b[0;32mif\u001b[0m \u001b[0mplotnonfinite\u001b[0m \u001b[0;32mand\u001b[0m \u001b[0mcolors\u001b[0m \u001b[0;32mis\u001b[0m \u001b[0;32mNone\u001b[0m\u001b[0;34m:\u001b[0m\u001b[0;34m\u001b[0m\u001b[0;34m\u001b[0m\u001b[0m\n",
            "\u001b[0;32m/usr/local/lib/python3.7/dist-packages/matplotlib/axes/_axes.py\u001b[0m in \u001b[0;36m_parse_scatter_color_args\u001b[0;34m(c, edgecolors, kwargs, xsize, get_next_color_func)\u001b[0m\n\u001b[1;32m   4240\u001b[0m             \u001b[0;32mexcept\u001b[0m \u001b[0mValueError\u001b[0m\u001b[0;34m:\u001b[0m\u001b[0;34m\u001b[0m\u001b[0;34m\u001b[0m\u001b[0m\n\u001b[1;32m   4241\u001b[0m                 \u001b[0;32mif\u001b[0m \u001b[0;32mnot\u001b[0m \u001b[0mvalid_shape\u001b[0m\u001b[0;34m:\u001b[0m\u001b[0;34m\u001b[0m\u001b[0;34m\u001b[0m\u001b[0m\n\u001b[0;32m-> 4242\u001b[0;31m                     \u001b[0;32mraise\u001b[0m \u001b[0minvalid_shape_exception\u001b[0m\u001b[0;34m(\u001b[0m\u001b[0mc\u001b[0m\u001b[0;34m.\u001b[0m\u001b[0msize\u001b[0m\u001b[0;34m,\u001b[0m \u001b[0mxsize\u001b[0m\u001b[0;34m)\u001b[0m\u001b[0;34m\u001b[0m\u001b[0;34m\u001b[0m\u001b[0m\n\u001b[0m\u001b[1;32m   4243\u001b[0m                 \u001b[0;31m# Both the mapping *and* the RGBA conversion failed: pretty\u001b[0m\u001b[0;34m\u001b[0m\u001b[0;34m\u001b[0m\u001b[0;34m\u001b[0m\u001b[0m\n\u001b[1;32m   4244\u001b[0m                 \u001b[0;31m# severe failure => one may appreciate a verbose feedback.\u001b[0m\u001b[0;34m\u001b[0m\u001b[0;34m\u001b[0m\u001b[0;34m\u001b[0m\u001b[0m\n",
            "\u001b[0;31mValueError\u001b[0m: 'c' argument has 7095 elements, which is inconsistent with 'x' and 'y' with size 13643."
          ]
        },
        {
          "output_type": "display_data",
          "data": {
            "image/png": "[encoded data removed]",
            "text/plain": [
              "<Figure size 432x288 with 1 Axes>"
            ]
          },
          "metadata": {
            "needs_background": "light"
          }
        }
      ]
    },
    {
      "cell_type": "code",
      "metadata": {
        "id": "GKxAuPwUnZoy",
        "outputId": "e70310f3-0964-40a5-d860-90189f51ef43",
        "colab": {
          "base_uri": "https://localhost:8080/"
        }
      },
      "source": [
        "moyenne_des_vecteur = []\n",
        "for i in range(len(sentances)):\n",
        "  list_des_vecteurs =[]\n",
        "  for k in sentances[i]:\n",
        "    vecteur_de_mot = model_2.wv.word_vec(k)\n",
        "    list_des_vecteurs.append(vecteur_de_mot)\n",
        "  moyenne = np.mean(list_des_vecteurs,axis=0)\n",
        "  moyenne_des_vecteur.append(moyenne)\n",
        "\n",
        "print(sentances[0])\n",
        "print(moyenne_des_vecteur[0])\n"
      ],
      "execution_count": 119,
      "outputs": [
        {
          "output_type": "stream",
          "name": "stdout",
          "text": [
            "['computeraided', 'analysis', 'design', 'information', 'system', 'paper', 'describes', 'use', 'computeraided', 'analysis', 'design', 'development', 'integrated', 'financial', 'management', 'system', 'navy', 'material', 'command', 'support', 'activity', 'nmcsa', 'computeraided', 'analysis', 'consists', 'set', 'procedure', 'computer', 'program', 'specifically', 'designed', 'aid', 'process', 'application', 'software', 'design', 'computer', 'selection', 'performance', 'evaluation', 'major', 'component', 'problem', 'statement', 'language', 'problem', 'statement', 'analyzer', 'generator', 'alternative', 'design', 'performance', 'evaluator', 'statement', 'requirement', 'written', 'ad', 'accurately', 'defined', 'system', 'analyzed', 'problem', 'statement', 'analyzer', 'ad', 'ad', 'problem', 'definition', 'supplemented', 'additional', 'information', 'order', 'create', 'complete', 'problem', 'definition', 'analyzed', 'problem', 'statement', 'translated', 'form', 'necessary', 'use', 'soda', 'system', 'optimization', 'design', 'algorithm', 'program', 'generation', 'alternative', 'specification', 'program', 'module', 'logical', 'database', 'structure']\n",
            "[ 0.00750673 -0.3094347   0.05347384  0.24820757 -0.3496016   0.23607087\n",
            "  0.5848287  -0.16010733  0.25998536  0.01189462 -0.23059782 -0.28822973\n",
            "  0.02185154  0.01217724 -0.4266489   0.36639464  0.03271598 -0.08550972\n",
            " -0.13891213 -0.6077542  -0.09124703  0.39667156 -0.6473287   0.49617672\n",
            "  0.10285589 -0.0675602  -0.27174127  0.3455434  -0.18975644 -0.16147517\n",
            " -0.09401529 -0.36875808 -0.1201729   0.2052479   0.42441446 -0.05540225\n",
            "  0.06402314 -0.15428625  0.64503556 -0.30407897  0.21424037  0.3293087\n",
            "  0.34798175  0.41809857 -0.16641963 -0.532283   -0.46694937  0.10927679\n",
            " -0.28583783  0.39014167  0.03755387 -0.18830815 -0.28031468 -0.67562747\n",
            " -0.08249923  0.36675376 -0.17875752 -0.71810293  0.35219792 -0.25927833\n",
            "  0.06258725  0.01274028 -0.5084934  -0.25913396 -0.09692274  0.1497926\n",
            " -0.3868348   0.662339   -0.07171974 -0.143261   -0.01132734 -0.22599547\n",
            "  0.5007564  -0.34834218  0.06297167 -0.18001907  0.6768194   0.27570572\n",
            "  0.0926274   0.41649342  0.45333633  0.0721345   0.01754603  0.12072664\n",
            "  0.5585492  -0.32653332 -0.331536    0.6653642   0.05252166  0.17390043\n",
            "  0.518432   -0.33257565 -0.19715913  0.04506429  0.1022636  -0.07291141\n",
            " -0.32750934 -0.14304757  0.24752286  0.21468261  0.10534062 -0.09994294\n",
            " -0.40268618  0.11114686 -0.23037072  0.16977815 -0.28557476 -0.13330612\n",
            "  0.23129465 -0.20554347 -0.16817537 -0.08410774 -0.39631835  0.1016956\n",
            "  0.49667332  0.41746607  0.00811289  0.09488103  0.77791417  0.26618192\n",
            " -0.48848316 -0.09776709 -0.08443724  0.35856038 -0.08615421  0.07546944\n",
            " -0.56487876  0.022485    0.10245961  0.26778206  0.09100898 -0.30470285\n",
            " -0.41838565  0.15086202  0.25129837 -0.14927441  0.19414596 -0.14232546\n",
            " -0.39878368  0.05842778  0.32789424 -0.18557698 -0.15281178  0.35779843\n",
            " -0.090965   -0.20948705 -0.04026556 -0.24258152 -0.11451636  0.10232237\n",
            "  0.20645966  0.26193962 -0.08899725  0.03904804 -0.11725376 -0.50700283\n",
            " -0.29273888  0.0888616  -0.31597683 -0.19622931 -0.00090453  0.15105735\n",
            " -0.18552348 -0.07046001 -0.15709557  0.27760065  0.19752902 -0.295549\n",
            "  0.130805   -0.31573582 -0.09061558 -0.25928152 -0.33335757 -0.19664216\n",
            "  0.5105538   0.07557472  0.4159984  -0.58454895 -0.547569    0.13290831\n",
            " -0.5299563  -0.3533648   0.06559381 -0.0948004   0.26880378 -0.02325659\n",
            " -0.19678247  0.22440916  0.03045419  0.1844941  -0.5592297  -0.19781606\n",
            "  0.10763005 -0.3330134  -0.7882505   0.02681954  0.02825925 -0.4794368\n",
            " -0.10315997 -0.6491976   0.11510811  0.49826962 -0.2936319   0.16854164\n",
            " -0.32298756  0.11769947  0.09626038 -0.04399769  0.13845204 -0.11509058\n",
            "  0.19146605  0.1587534  -0.0862775   0.12816934 -0.3380705   0.03832387\n",
            "  0.51553744  0.5472192  -0.5407344   0.08098653 -0.12740321 -0.19086449\n",
            " -0.14878115 -0.02957436 -0.26412138 -0.1942693   0.19595027  0.06281576\n",
            " -0.01461796  0.1268939  -0.08399013 -0.13766007  0.11770597 -0.08439926\n",
            " -0.0775968   0.0131082   0.06768788 -0.23408821  0.3224266  -0.09407178\n",
            " -0.10601871 -0.07348672 -0.16770369 -0.30482706  0.04600618 -0.2798839\n",
            " -0.24047016  0.48601523  0.15272444 -0.18357265 -0.1733743   0.3725024\n",
            " -0.23802598  0.03665325 -0.0274706  -0.22823215 -0.07773122 -0.02303662\n",
            " -0.36956197 -0.13171217  0.41265365 -0.23930795 -0.34040216 -0.03781444\n",
            " -0.05563855  0.41839823  0.09449802 -0.3233796  -1.0887979  -0.1340063\n",
            "  0.16894826  0.05496817 -0.03787135  0.11302142 -0.11215861 -0.17048852\n",
            " -0.16071382 -0.5264112  -0.13597496 -0.10257925 -0.40182948  0.4052275\n",
            "  0.24218976  0.3718316   0.13036026 -0.05236254 -0.089499   -0.04586597\n",
            "  0.27897337  0.15071242 -0.7762581   0.24236175  0.03315007  0.10281575\n",
            " -0.22324029  0.07401181  0.22996646 -0.31873664 -0.3133565  -0.1881704 ]\n"
          ]
        }
      ]
    },
    {
      "cell_type": "code",
      "metadata": {
        "id": "iFA4zxI7rirX",
        "outputId": "17005f37-034b-4803-d681-7e313881b112",
        "colab": {
          "base_uri": "https://localhost:8080/"
        }
      },
      "source": [
        ""
      ],
      "execution_count": 118,
      "outputs": [
        {
          "output_type": "stream",
          "name": "stdout",
          "text": [
            "[ 0.00750673 -0.3094347   0.05347384  0.24820757 -0.3496016   0.23607087\n",
            "  0.5848287  -0.16010733  0.25998536  0.01189462 -0.23059782 -0.28822973\n",
            "  0.02185154  0.01217724 -0.4266489   0.36639464  0.03271598 -0.08550972\n",
            " -0.13891213 -0.6077542  -0.09124703  0.39667156 -0.6473287   0.49617672\n",
            "  0.10285589 -0.0675602  -0.27174127  0.3455434  -0.18975644 -0.16147517\n",
            " -0.09401529 -0.36875808 -0.1201729   0.2052479   0.42441446 -0.05540225\n",
            "  0.06402314 -0.15428625  0.64503556 -0.30407897  0.21424037  0.3293087\n",
            "  0.34798175  0.41809857 -0.16641963 -0.532283   -0.46694937  0.10927679\n",
            " -0.28583783  0.39014167  0.03755387 -0.18830815 -0.28031468 -0.67562747\n",
            " -0.08249923  0.36675376 -0.17875752 -0.71810293  0.35219792 -0.25927833\n",
            "  0.06258725  0.01274028 -0.5084934  -0.25913396 -0.09692274  0.1497926\n",
            " -0.3868348   0.662339   -0.07171974 -0.143261   -0.01132734 -0.22599547\n",
            "  0.5007564  -0.34834218  0.06297167 -0.18001907  0.6768194   0.27570572\n",
            "  0.0926274   0.41649342  0.45333633  0.0721345   0.01754603  0.12072664\n",
            "  0.5585492  -0.32653332 -0.331536    0.6653642   0.05252166  0.17390043\n",
            "  0.518432   -0.33257565 -0.19715913  0.04506429  0.1022636  -0.07291141\n",
            " -0.32750934 -0.14304757  0.24752286  0.21468261  0.10534062 -0.09994294\n",
            " -0.40268618  0.11114686 -0.23037072  0.16977815 -0.28557476 -0.13330612\n",
            "  0.23129465 -0.20554347 -0.16817537 -0.08410774 -0.39631835  0.1016956\n",
            "  0.49667332  0.41746607  0.00811289  0.09488103  0.77791417  0.26618192\n",
            " -0.48848316 -0.09776709 -0.08443724  0.35856038 -0.08615421  0.07546944\n",
            " -0.56487876  0.022485    0.10245961  0.26778206  0.09100898 -0.30470285\n",
            " -0.41838565  0.15086202  0.25129837 -0.14927441  0.19414596 -0.14232546\n",
            " -0.39878368  0.05842778  0.32789424 -0.18557698 -0.15281178  0.35779843\n",
            " -0.090965   -0.20948705 -0.04026556 -0.24258152 -0.11451636  0.10232237\n",
            "  0.20645966  0.26193962 -0.08899725  0.03904804 -0.11725376 -0.50700283\n",
            " -0.29273888  0.0888616  -0.31597683 -0.19622931 -0.00090453  0.15105735\n",
            " -0.18552348 -0.07046001 -0.15709557  0.27760065  0.19752902 -0.295549\n",
            "  0.130805   -0.31573582 -0.09061558 -0.25928152 -0.33335757 -0.19664216\n",
            "  0.5105538   0.07557472  0.4159984  -0.58454895 -0.547569    0.13290831\n",
            " -0.5299563  -0.3533648   0.06559381 -0.0948004   0.26880378 -0.02325659\n",
            " -0.19678247  0.22440916  0.03045419  0.1844941  -0.5592297  -0.19781606\n",
            "  0.10763005 -0.3330134  -0.7882505   0.02681954  0.02825925 -0.4794368\n",
            " -0.10315997 -0.6491976   0.11510811  0.49826962 -0.2936319   0.16854164\n",
            " -0.32298756  0.11769947  0.09626038 -0.04399769  0.13845204 -0.11509058\n",
            "  0.19146605  0.1587534  -0.0862775   0.12816934 -0.3380705   0.03832387\n",
            "  0.51553744  0.5472192  -0.5407344   0.08098653 -0.12740321 -0.19086449\n",
            " -0.14878115 -0.02957436 -0.26412138 -0.1942693   0.19595027  0.06281576\n",
            " -0.01461796  0.1268939  -0.08399013 -0.13766007  0.11770597 -0.08439926\n",
            " -0.0775968   0.0131082   0.06768788 -0.23408821  0.3224266  -0.09407178\n",
            " -0.10601871 -0.07348672 -0.16770369 -0.30482706  0.04600618 -0.2798839\n",
            " -0.24047016  0.48601523  0.15272444 -0.18357265 -0.1733743   0.3725024\n",
            " -0.23802598  0.03665325 -0.0274706  -0.22823215 -0.07773122 -0.02303662\n",
            " -0.36956197 -0.13171217  0.41265365 -0.23930795 -0.34040216 -0.03781444\n",
            " -0.05563855  0.41839823  0.09449802 -0.3233796  -1.0887979  -0.1340063\n",
            "  0.16894826  0.05496817 -0.03787135  0.11302142 -0.11215861 -0.17048852\n",
            " -0.16071382 -0.5264112  -0.13597496 -0.10257925 -0.40182948  0.4052275\n",
            "  0.24218976  0.3718316   0.13036026 -0.05236254 -0.089499   -0.04586597\n",
            "  0.27897337  0.15071242 -0.7762581   0.24236175  0.03315007  0.10281575\n",
            " -0.22324029  0.07401181  0.22996646 -0.31873664 -0.3133565  -0.1881704 ]\n",
            "[ 0.00750673 -0.3094347   0.05347384  0.24820757 -0.3496016   0.23607087\n",
            "  0.5848287  -0.16010733  0.25998536  0.01189462 -0.23059782 -0.28822973\n",
            "  0.02185154  0.01217724 -0.4266489   0.36639464  0.03271598 -0.08550972\n",
            " -0.13891213 -0.6077542  -0.09124703  0.39667156 -0.6473287   0.49617672\n",
            "  0.10285589 -0.0675602  -0.27174127  0.3455434  -0.18975644 -0.16147517\n",
            " -0.09401529 -0.36875808 -0.1201729   0.2052479   0.42441446 -0.05540225\n",
            "  0.06402314 -0.15428625  0.64503556 -0.30407897  0.21424037  0.3293087\n",
            "  0.34798175  0.41809857 -0.16641963 -0.532283   -0.46694937  0.10927679\n",
            " -0.28583783  0.39014167  0.03755387 -0.18830815 -0.28031468 -0.67562747\n",
            " -0.08249923  0.36675376 -0.17875752 -0.71810293  0.35219792 -0.25927833\n",
            "  0.06258725  0.01274028 -0.5084934  -0.25913396 -0.09692274  0.1497926\n",
            " -0.3868348   0.662339   -0.07171974 -0.143261   -0.01132734 -0.22599547\n",
            "  0.5007564  -0.34834218  0.06297167 -0.18001907  0.6768194   0.27570572\n",
            "  0.0926274   0.41649342  0.45333633  0.0721345   0.01754603  0.12072664\n",
            "  0.5585492  -0.32653332 -0.331536    0.6653642   0.05252166  0.17390043\n",
            "  0.518432   -0.33257565 -0.19715913  0.04506429  0.1022636  -0.07291141\n",
            " -0.32750934 -0.14304757  0.24752286  0.21468261  0.10534062 -0.09994294\n",
            " -0.40268618  0.11114686 -0.23037072  0.16977815 -0.28557476 -0.13330612\n",
            "  0.23129465 -0.20554347 -0.16817537 -0.08410774 -0.39631835  0.1016956\n",
            "  0.49667332  0.41746607  0.00811289  0.09488103  0.77791417  0.26618192\n",
            " -0.48848316 -0.09776709 -0.08443724  0.35856038 -0.08615421  0.07546944\n",
            " -0.56487876  0.022485    0.10245961  0.26778206  0.09100898 -0.30470285\n",
            " -0.41838565  0.15086202  0.25129837 -0.14927441  0.19414596 -0.14232546\n",
            " -0.39878368  0.05842778  0.32789424 -0.18557698 -0.15281178  0.35779843\n",
            " -0.090965   -0.20948705 -0.04026556 -0.24258152 -0.11451636  0.10232237\n",
            "  0.20645966  0.26193962 -0.08899725  0.03904804 -0.11725376 -0.50700283\n",
            " -0.29273888  0.0888616  -0.31597683 -0.19622931 -0.00090453  0.15105735\n",
            " -0.18552348 -0.07046001 -0.15709557  0.27760065  0.19752902 -0.295549\n",
            "  0.130805   -0.31573582 -0.09061558 -0.25928152 -0.33335757 -0.19664216\n",
            "  0.5105538   0.07557472  0.4159984  -0.58454895 -0.547569    0.13290831\n",
            " -0.5299563  -0.3533648   0.06559381 -0.0948004   0.26880378 -0.02325659\n",
            " -0.19678247  0.22440916  0.03045419  0.1844941  -0.5592297  -0.19781606\n",
            "  0.10763005 -0.3330134  -0.7882505   0.02681954  0.02825925 -0.4794368\n",
            " -0.10315997 -0.6491976   0.11510811  0.49826962 -0.2936319   0.16854164\n",
            " -0.32298756  0.11769947  0.09626038 -0.04399769  0.13845204 -0.11509058\n",
            "  0.19146605  0.1587534  -0.0862775   0.12816934 -0.3380705   0.03832387\n",
            "  0.51553744  0.5472192  -0.5407344   0.08098653 -0.12740321 -0.19086449\n",
            " -0.14878115 -0.02957436 -0.26412138 -0.1942693   0.19595027  0.06281576\n",
            " -0.01461796  0.1268939  -0.08399013 -0.13766007  0.11770597 -0.08439926\n",
            " -0.0775968   0.0131082   0.06768788 -0.23408821  0.3224266  -0.09407178\n",
            " -0.10601871 -0.07348672 -0.16770369 -0.30482706  0.04600618 -0.2798839\n",
            " -0.24047016  0.48601523  0.15272444 -0.18357265 -0.1733743   0.3725024\n",
            " -0.23802598  0.03665325 -0.0274706  -0.22823215 -0.07773122 -0.02303662\n",
            " -0.36956197 -0.13171217  0.41265365 -0.23930795 -0.34040216 -0.03781444\n",
            " -0.05563855  0.41839823  0.09449802 -0.3233796  -1.0887979  -0.1340063\n",
            "  0.16894826  0.05496817 -0.03787135  0.11302142 -0.11215861 -0.17048852\n",
            " -0.16071382 -0.5264112  -0.13597496 -0.10257925 -0.40182948  0.4052275\n",
            "  0.24218976  0.3718316   0.13036026 -0.05236254 -0.089499   -0.04586597\n",
            "  0.27897337  0.15071242 -0.7762581   0.24236175  0.03315007  0.10281575\n",
            " -0.22324029  0.07401181  0.22996646 -0.31873664 -0.3133565  -0.1881704 ]\n"
          ]
        }
      ]
    },
    {
      "cell_type": "code",
      "metadata": {
        "colab": {
          "base_uri": "https://localhost:8080/",
          "height": 915
        },
        "id": "dpVdkni8iRjW",
        "outputId": "d0a427a8-ae73-4e2a-ea2b-3ff08bd10f11"
      },
      "source": [
        "display_closestwords_tsnescatterplot(model_2, 'key', 300)\n",
        "display_closestwords_tsnescatterplot(model1, 'key', 100)"
      ],
      "execution_count": 44,
      "outputs": [
        {
          "output_type": "stream",
          "name": "stderr",
          "text": [
            "/usr/local/lib/python3.7/dist-packages/ipykernel_launcher.py:7: DeprecationWarning: Call to deprecated `similar_by_word` (Method will be removed in 4.0.0, use self.wv.similar_by_word() instead).\n",
            "  import sys\n",
            "/usr/local/lib/python3.7/dist-packages/ipykernel_launcher.py:9: DeprecationWarning: Call to deprecated `__getitem__` (Method will be removed in 4.0.0, use self.wv.__getitem__() instead).\n",
            "  if __name__ == '__main__':\n",
            "/usr/local/lib/python3.7/dist-packages/ipykernel_launcher.py:11: DeprecationWarning: Call to deprecated `__getitem__` (Method will be removed in 4.0.0, use self.wv.__getitem__() instead).\n",
            "  # This is added back by InteractiveShellApp.init_path()\n",
            "/usr/local/lib/python3.7/dist-packages/sklearn/manifold/_t_sne.py:783: FutureWarning: The default initialization in TSNE will change from 'random' to 'pca' in 1.2.\n",
            "  FutureWarning,\n",
            "/usr/local/lib/python3.7/dist-packages/sklearn/manifold/_t_sne.py:793: FutureWarning: The default learning rate in TSNE will change from 200.0 to 'auto' in 1.2.\n",
            "  FutureWarning,\n"
          ]
        },
        {
          "output_type": "display_data",
          "data": {
            "image/png": "[encoded data removed]",
            "text/plain": [
              "<Figure size 432x288 with 1 Axes>"
            ]
          },
          "metadata": {
            "needs_background": "light"
          }
        },
        {
          "output_type": "stream",
          "name": "stderr",
          "text": [
            "/usr/local/lib/python3.7/dist-packages/ipykernel_launcher.py:7: DeprecationWarning: Call to deprecated `similar_by_word` (Method will be removed in 4.0.0, use self.wv.similar_by_word() instead).\n",
            "  import sys\n",
            "/usr/local/lib/python3.7/dist-packages/ipykernel_launcher.py:9: DeprecationWarning: Call to deprecated `__getitem__` (Method will be removed in 4.0.0, use self.wv.__getitem__() instead).\n",
            "  if __name__ == '__main__':\n",
            "/usr/local/lib/python3.7/dist-packages/ipykernel_launcher.py:11: DeprecationWarning: Call to deprecated `__getitem__` (Method will be removed in 4.0.0, use self.wv.__getitem__() instead).\n",
            "  # This is added back by InteractiveShellApp.init_path()\n",
            "/usr/local/lib/python3.7/dist-packages/sklearn/manifold/_t_sne.py:783: FutureWarning: The default initialization in TSNE will change from 'random' to 'pca' in 1.2.\n",
            "  FutureWarning,\n",
            "/usr/local/lib/python3.7/dist-packages/sklearn/manifold/_t_sne.py:793: FutureWarning: The default learning rate in TSNE will change from 200.0 to 'auto' in 1.2.\n",
            "  FutureWarning,\n"
          ]
        },
        {
          "output_type": "display_data",
          "data": {
            "image/png": "[encoded data removed]",
            "text/plain": [
              "<Figure size 432x288 with 1 Axes>"
            ]
          },
          "metadata": {
            "needs_background": "light"
          }
        }
      ]
    }
  ]
}